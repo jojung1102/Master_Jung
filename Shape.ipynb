{
 "cells": [
  {
   "cell_type": "code",
   "execution_count": null,
   "id": "a59cedd9-0a98-4a8e-b244-2948cb424eac",
   "metadata": {},
   "outputs": [],
   "source": [
    "import numpy as np\n",
    "import matplotlib.pyplot as plt\n",
    "from matplotlib.patches import Arc\n",
    "from matplotlib.lines import Line2D"
   ]
  },
  {
   "cell_type": "code",
   "execution_count": null,
   "id": "eb723440-1dae-47a2-beee-6e0ed5145ec5",
   "metadata": {},
   "outputs": [],
   "source": [
    "def plot_angle(ax, center, radius, start_angle, end_angle, color='black'):\n",
    "    arc = Arc(center, 2 * radius, 2 * radius, angle=0, theta1=start_angle, theta2=end_angle, color=color, lw=2)\n",
    "    ax.add_patch(arc)\n",
    "\n",
    "def plot_spherical_cap(ax, AI, Acont):  \n",
    "    RI = np.sqrt(Acont/(np.pi * (1 - ((2 * Acont)/AI - 1)**2)))\n",
    "    RII =np.sqrt(Acont/(np.pi * (1 - ((2 * Acont)/(1 - AI) - 1)**2)))\n",
    "    r = np.sqrt(Acont/np.pi)\n",
    "    thetaI = np.pi - np.arcsin(r/RI)\n",
    "    thetaII = np.pi - np.arcsin(r/RII)\n",
    "    center = -(np.cos(thetaI) * RI + np.cos(thetaII) * RII)\n",
    "    \n",
    "    # Generate theta values for plotting\n",
    "    theta1 = np.linspace(-thetaI, thetaI, 100)\n",
    "    theta2 = np.linspace(-thetaII, thetaII, 100)\n",
    "    \n",
    "    # Compute cap boundaries in 2D\n",
    "    x1 = -RI * np.cos(theta1)\n",
    "    y1 = RI * np.sin(theta1)\n",
    "    \n",
    "    x2 = center + RII * np.cos(theta2)\n",
    "    y2 = RII * np.sin(theta2)\n",
    "    \n",
    "    # Plot the caps\n",
    "    ax.plot(x1, y1, color=plt.cm.viridis(0.3), lw = 5)\n",
    "    ax.plot(x2, y2, color=plt.cm.viridis(0.8), lw = 5)\n",
    "    \n",
    "    # Plot vectors\n",
    "    p1 = (-RI, 0)\n",
    "    p2 = (-RI * np.cos(thetaI), RI * np.sin(thetaI))\n",
    "    p3 = (- RI * np.cos(thetaI), 0)\n",
    "    p4 = (center, 0)\n",
    "    p5 = (center + RII, 0)\n",
    "    \n",
    "    ax.quiver(0, 0, p1[0], p1[1], angles='xy', scale_units='xy', scale=1, color='black', width=0.005)\n",
    "    ax.quiver(0, 0, p2[0], p2[1], angles='xy', scale_units='xy', scale=1, color='black', width=0.005)\n",
    "    ax.quiver(p3[0], p3[1], p2[0] - p3[0], p2[1] - p3[1], angles='xy', scale_units='xy', scale=1, color='black', width=0.005)\n",
    "    ax.quiver(p4[0], p4[1], p5[0] - p4[0], p5[1] - p4[1], angles='xy', scale_units='xy', scale=1, color='black', width=0.005)\n",
    "    ax.quiver(p4[0], p4[1], p2[0] - p4[0], p2[1] - p4[1], angles='xy', scale_units='xy', scale=1, color='black', width=0.005)\n",
    "    \n",
    "    plot_angle(ax, (0,0), 0.05, np.degrees(np.pi-thetaI), 180)\n",
    "    plot_angle(ax, p4, 0.05, 0, np.degrees(thetaII))\n",
    "    \n",
    "    ax.set_aspect('equal')"
   ]
  },
  {
   "cell_type": "code",
   "execution_count": null,
   "id": "f81ff20f-b7ba-4464-8c53-275ec1f65369",
   "metadata": {},
   "outputs": [],
   "source": [
    "# Example usage\n",
    "fig, ax = plt.subplots(figsize=(6, 6))\n",
    "plot_spherical_cap(ax, AI=0.6, Acont=0.1)\n",
    "\n",
    "# Legend\n",
    "legend_elements = [\n",
    "    Line2D([0], [0], lw=5, color=plt.cm.viridis(0.3), label='Cap 1'),\n",
    "    Line2D([0], [0], lw=5, color=plt.cm.viridis(0.8), label='Cap 2')\n",
    "]\n",
    "\n",
    "# Add legend to the 3D plot\n",
    "ax.legend(handles=legend_elements, loc='upper right')\n",
    "\n",
    "# Remove axes\n",
    "ax.set_xticks([])\n",
    "ax.set_yticks([])\n",
    "ax.set_frame_on(False)\n",
    "plt.savefig('figures/geometry.svg', dpi=300)\n",
    "plt.show()"
   ]
  },
  {
   "cell_type": "code",
   "execution_count": null,
   "id": "4fb4aa7f-9bb5-477f-8149-284b9288c7b9",
   "metadata": {},
   "outputs": [],
   "source": []
  }
 ],
 "metadata": {
  "kernelspec": {
   "display_name": "Python 3 (ipykernel)",
   "language": "python",
   "name": "python3"
  },
  "language_info": {
   "codemirror_mode": {
    "name": "ipython",
    "version": 3
   },
   "file_extension": ".py",
   "mimetype": "text/x-python",
   "name": "python",
   "nbconvert_exporter": "python",
   "pygments_lexer": "ipython3",
   "version": "3.9.7"
  }
 },
 "nbformat": 4,
 "nbformat_minor": 5
}
